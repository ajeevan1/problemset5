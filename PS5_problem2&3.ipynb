{
 "cells": [
  {
   "cell_type": "code",
   "execution_count": 94,
   "id": "42720d33-f809-4a06-816f-ed0ad64e0d39",
   "metadata": {},
   "outputs": [
    {
     "name": "stdout",
     "output_type": "stream",
     "text": [
      "done\n"
     ]
    }
   ],
   "source": [
    "#!/usr/bin/env python\n",
    "from sqlalchemy import create_engine\n",
    "from sqlalchemy import MetaData\n",
    "from sqlalchemy import Table, Column\n",
    "from sqlalchemy import Integer, String\n",
    "from sqlalchemy import sql, select, join, desc\n",
    "print('done')\n",
    "\n"
   ]
  },
  {
   "cell_type": "code",
   "execution_count": 95,
   "id": "d9444aed-3a5e-44c4-b24f-e1c271b2b9eb",
   "metadata": {},
   "outputs": [],
   "source": [
    "# Creating a Engine object which is our handle into the database.\n",
    "engine = create_engine('sqlite:///world.sqlite')\n",
    "# Connecting to the database\n",
    "conn = engine.connect()\n",
    "\n",
    "# Read the metadata from the existing database.\n",
    "#  Since the database already exists and has tables defined, we can create Python objects based on these automatically.\n",
    "DBInfo=MetaData(engine)\n"
   ]
  },
  {
   "cell_type": "markdown",
   "id": "abab59cf-fec1-48a8-8c30-faab89c41c24",
   "metadata": {},
   "source": [
    "**Solution to Question 2:**"
   ]
  },
  {
   "cell_type": "code",
   "execution_count": 96,
   "id": "b9f160d0-2d91-4bfd-84f7-16b0c17224b6",
   "metadata": {},
   "outputs": [],
   "source": [
    "# Auto-creating the country object basedon the metadata read into the DBInfo.\n",
    "country=Table('country', DBInfo, autoload=True)"
   ]
  },
  {
   "cell_type": "code",
   "execution_count": 54,
   "id": "60705f89-0a7e-400d-b92c-627a8e5af50c",
   "metadata": {},
   "outputs": [
    {
     "data": {
      "text/plain": [
       "Table('country', MetaData(bind=Engine(sqlite:///world.sqlite)), Column('Code', CHAR(length=3), table=<country>, primary_key=True, nullable=False, server_default=DefaultClause(<sqlalchemy.sql.elements.TextClause object at 0x2b72c63db730>, for_update=False)), Column('Name', CHAR(length=52), table=<country>, nullable=False, server_default=DefaultClause(<sqlalchemy.sql.elements.TextClause object at 0x2b72c63dbd60>, for_update=False)), Column('Continent', TEXT(), table=<country>, nullable=False, server_default=DefaultClause(<sqlalchemy.sql.elements.TextClause object at 0x2b72c63dab00>, for_update=False)), Column('Region', CHAR(length=26), table=<country>, nullable=False, server_default=DefaultClause(<sqlalchemy.sql.elements.TextClause object at 0x2b72c650cee0>, for_update=False)), Column('SurfaceArea', FLOAT(precision=10, asdecimal=2), table=<country>, nullable=False, server_default=DefaultClause(<sqlalchemy.sql.elements.TextClause object at 0x2b72c650c1c0>, for_update=False)), Column('IndepYear', INTEGER(), table=<country>, server_default=DefaultClause(<sqlalchemy.sql.elements.TextClause object at 0x2b72c650c040>, for_update=False)), Column('Population', INTEGER(), table=<country>, nullable=False, server_default=DefaultClause(<sqlalchemy.sql.elements.TextClause object at 0x2b72c650cc40>, for_update=False)), Column('LifeExpectancy', FLOAT(precision=3, asdecimal=1), table=<country>, server_default=DefaultClause(<sqlalchemy.sql.elements.TextClause object at 0x2b72c650ca60>, for_update=False)), Column('GNP', FLOAT(precision=10, asdecimal=2), table=<country>, server_default=DefaultClause(<sqlalchemy.sql.elements.TextClause object at 0x2b72c650cb50>, for_update=False)), Column('GNPOld', FLOAT(precision=10, asdecimal=2), table=<country>, server_default=DefaultClause(<sqlalchemy.sql.elements.TextClause object at 0x2b72c650c3a0>, for_update=False)), Column('LocalName', CHAR(length=45), table=<country>, nullable=False, server_default=DefaultClause(<sqlalchemy.sql.elements.TextClause object at 0x2b72c650c520>, for_update=False)), Column('GovernmentForm', CHAR(length=45), table=<country>, nullable=False, server_default=DefaultClause(<sqlalchemy.sql.elements.TextClause object at 0x2b72c650c5e0>, for_update=False)), Column('HeadOfState', CHAR(length=60), table=<country>, server_default=DefaultClause(<sqlalchemy.sql.elements.TextClause object at 0x2b72c650c640>, for_update=False)), Column('Capital', INTEGER(), table=<country>, server_default=DefaultClause(<sqlalchemy.sql.elements.TextClause object at 0x2b72c650cd30>, for_update=False)), Column('Code2', CHAR(length=2), table=<country>, nullable=False, server_default=DefaultClause(<sqlalchemy.sql.elements.TextClause object at 0x2b72c650ce20>, for_update=False)), schema=None)"
      ]
     },
     "execution_count": 54,
     "metadata": {},
     "output_type": "execute_result"
    }
   ],
   "source": [
    "country"
   ]
  },
  {
   "cell_type": "code",
   "execution_count": 97,
   "id": "c69800ea-ea7a-43cb-9a92-7673e7d40b16",
   "metadata": {},
   "outputs": [
    {
     "name": "stdout",
     "output_type": "stream",
     "text": [
      "('ABW', 'Aruba', 'North America', 103000, None)\n",
      "('AFG', 'Afghanistan', 'Asia', 22720000, 1919)\n",
      "('AGO', 'Angola', 'Africa', 12878000, 1975)\n",
      "('AIA', 'Anguilla', 'North America', 8000, None)\n",
      "('ALB', 'Albania', 'Europe', 3401200, 1912)\n",
      "('AND', 'Andorra', 'Europe', 78000, 1278)\n",
      "('ANT', 'Netherlands Antilles', 'North America', 217000, None)\n",
      "('ARE', 'United Arab Emirates', 'Asia', 2441000, 1971)\n",
      "('ARG', 'Argentina', 'South America', 37032000, 1816)\n",
      "('ARM', 'Armenia', 'Asia', 3520000, 1991)\n"
     ]
    }
   ],
   "source": [
    "# Mirroring this command: SELECT Code, Name, Continent,Population and IndepeYear FROM country LIMIT 10;\n",
    "query=select([country.c.Code, country.c.Name, country.c.Continent,country.c.Population,country.c.IndepYear]).limit(10)\n",
    "result = conn.execute(query)\n",
    "for row in result:\n",
    "    print(row)\n",
    "   "
   ]
  },
  {
   "cell_type": "code",
   "execution_count": 98,
   "id": "a9f257a9-31b4-40c0-ad6b-3b91671265be",
   "metadata": {},
   "outputs": [
    {
     "name": "stdout",
     "output_type": "stream",
     "text": [
      "<sqlalchemy.engine.result.ResultProxy object at 0x2b72c4494280>\n"
     ]
    }
   ],
   "source": [
    "query=select([country.c.Code, country.c.Name, country.c.Continent])\\\n",
    "             .where(country.c.Name=='Montenegro')\\\n",
    "             .order_by(desc(country.c.Population))\\\n",
    "             .limit(10)\n",
    "result = conn.execute(query)\n",
    "for row in result:\n",
    "    print(row)\n",
    "print(result)\n",
    "\n",
    "##No results on Montenegro at first. So, it can be added now.\n",
    "\n",
    "\n",
    "\n"
   ]
  },
  {
   "cell_type": "code",
   "execution_count": 99,
   "id": "b8128c86-7a40-4d4b-8674-67b032b3bbb5",
   "metadata": {},
   "outputs": [
    {
     "name": "stdout",
     "output_type": "stream",
     "text": [
      "INSERT INTO country (\"Code\", \"Name\", \"Continent\", \"Region\", \"SurfaceArea\", \"IndepYear\", \"Population\", \"LifeExpectancy\", \"GNP\", \"GNPOld\", \"LocalName\", \"GovernmentForm\", \"HeadOfState\", \"Capital\", \"Code2\") VALUES (?, ?, ?, ?, ?, ?, ?, ?, ?, ?, ?, ?, ?, ?, ?)\n"
     ]
    }
   ],
   "source": [
    "print(country.insert())"
   ]
  },
  {
   "cell_type": "code",
   "execution_count": 100,
   "id": "ed6ed2f6-cdde-431e-a884-2e20b1c19e83",
   "metadata": {},
   "outputs": [
    {
     "name": "stdout",
     "output_type": "stream",
     "text": [
      "INSERT INTO country (\"Code\", \"Name\", \"Continent\", \"IndepYear\", \"Population\") VALUES (?, ?, ?, ?, ?)\n"
     ]
    }
   ],
   "source": [
    "my_insert=country.insert().values(Code='MNE',Name='Montenegro', Continent='Europe',IndepYear='2006',Population='621000')\n",
    "print(my_insert)"
   ]
  },
  {
   "cell_type": "code",
   "execution_count": 101,
   "id": "b6352514-c9db-4c9d-b36b-6082a0202f1e",
   "metadata": {},
   "outputs": [],
   "source": [
    "result = conn.execute(my_insert)"
   ]
  },
  {
   "cell_type": "code",
   "execution_count": 102,
   "id": "8e66dbd8-3341-4f96-8d1d-8c3148f64ba1",
   "metadata": {},
   "outputs": [
    {
     "name": "stdout",
     "output_type": "stream",
     "text": [
      "('MCO', 'Monaco', 'Europe', 1861, 34000)\n",
      "('MNG', 'Mongolia', 'Asia', 1921, 2662000)\n",
      "('MSR', 'Montserrat', 'North America', None, 11000)\n",
      "('MNE', 'Montenegro', 'Europe', 2006, 621000)\n"
     ]
    }
   ],
   "source": [
    "query=select([country.c.Code, country.c.Name, country.c.Continent, country.c.IndepYear,country.c.Population]).where(country.c.Name.like('Mon%'))\n",
    "result = conn.execute(query)\n",
    "for row in result:\n",
    "    print(row)"
   ]
  },
  {
   "cell_type": "markdown",
   "id": "78b51c69-43cf-43ab-80a9-eab67319c829",
   "metadata": {},
   "source": [
    "**Solution to question 3:**"
   ]
  },
  {
   "cell_type": "code",
   "execution_count": 103,
   "id": "1683dcb4-8b35-459c-8e20-4460d02857af",
   "metadata": {},
   "outputs": [],
   "source": [
    "# Auto-creating the country object basedon the metadata read into the DBInfo.\n",
    "city=Table('city', DBInfo, autoload=True)"
   ]
  },
  {
   "cell_type": "code",
   "execution_count": 83,
   "id": "e28c4827-a59d-442d-b205-3a7eeb7bb70b",
   "metadata": {},
   "outputs": [
    {
     "data": {
      "text/plain": [
       "Table('city', MetaData(bind=Engine(sqlite:///world.sqlite)), Column('ID', INTEGER(), table=<city>, primary_key=True, nullable=False), Column('Name', CHAR(length=35), table=<city>, nullable=False, server_default=DefaultClause(<sqlalchemy.sql.elements.TextClause object at 0x2b72c650d900>, for_update=False)), Column('CountryCode', CHAR(length=3), ForeignKey('country.Code'), table=<city>, nullable=False, server_default=DefaultClause(<sqlalchemy.sql.elements.TextClause object at 0x2b72c6553a90>, for_update=False)), Column('District', CHAR(length=20), table=<city>, nullable=False, server_default=DefaultClause(<sqlalchemy.sql.elements.TextClause object at 0x2b72c6553910>, for_update=False)), Column('Population', INTEGER(), table=<city>, nullable=False, server_default=DefaultClause(<sqlalchemy.sql.elements.TextClause object at 0x2b72c6553940>, for_update=False)), schema=None)"
      ]
     },
     "execution_count": 83,
     "metadata": {},
     "output_type": "execute_result"
    }
   ],
   "source": [
    "city"
   ]
  },
  {
   "cell_type": "code",
   "execution_count": 104,
   "id": "52b8aed0-cbac-4eaf-bbdf-7828fd526e6c",
   "metadata": {},
   "outputs": [
    {
     "name": "stdout",
     "output_type": "stream",
     "text": [
      "INSERT INTO city (\"ID\", \"Name\", \"CountryCode\", \"District\", \"Population\") VALUES (?, ?, ?, ?, ?)\n"
     ]
    }
   ],
   "source": [
    "print(city.insert())"
   ]
  },
  {
   "cell_type": "code",
   "execution_count": 105,
   "id": "c1c21f1e-dd4e-4560-91cc-5108e997381f",
   "metadata": {},
   "outputs": [
    {
     "name": "stdout",
     "output_type": "stream",
     "text": [
      "INSERT INTO city (\"Name\", \"CountryCode\", \"Population\") VALUES (?, ?, ?)\n"
     ]
    }
   ],
   "source": [
    "my_insert1=city.insert().values(Name='Podgorica',CountryCode='MNE', Population='170000')\n",
    "print(my_insert1)"
   ]
  },
  {
   "cell_type": "code",
   "execution_count": 106,
   "id": "8f542cb2-43e8-48c0-9afe-900fb9cd3ea9",
   "metadata": {},
   "outputs": [
    {
     "name": "stdout",
     "output_type": "stream",
     "text": [
      "INSERT INTO city (\"Name\", \"CountryCode\", \"Population\") VALUES (?, ?, ?)\n"
     ]
    }
   ],
   "source": [
    "my_insert=city.insert().values(Name='Kotor',CountryCode='MNE',Population='5300')\n",
    "print(my_insert)"
   ]
  },
  {
   "cell_type": "code",
   "execution_count": 107,
   "id": "03b79620-cf14-4b25-a05d-66e7e1ad7ae5",
   "metadata": {},
   "outputs": [],
   "source": [
    "result = conn.execute(my_insert1)\n",
    "result = conn.execute(my_insert)"
   ]
  },
  {
   "cell_type": "code",
   "execution_count": 108,
   "id": "aa2d693a-780b-4ecf-97b8-42841c936214",
   "metadata": {},
   "outputs": [
    {
     "name": "stdout",
     "output_type": "stream",
     "text": [
      "(1234568, 'Podgorica', 'MNE', '', 170000)\n",
      "(1234569, 'Kotor', 'MNE', '', 5300)\n"
     ]
    }
   ],
   "source": [
    "query=select([city.c.ID, city.c.Name, city.c.CountryCode, city.c.District, city.c.Population]).where(city.c.CountryCode.like('MNE'))\n",
    "result = conn.execute(query)\n",
    "for row in result:\n",
    "    print(row)"
   ]
  }
 ],
 "metadata": {
  "kernelspec": {
   "display_name": "UFRC Python-3.10",
   "language": "python",
   "name": "python3-3.10-ufrc"
  },
  "language_info": {
   "codemirror_mode": {
    "name": "ipython",
    "version": 3
   },
   "file_extension": ".py",
   "mimetype": "text/x-python",
   "name": "python",
   "nbconvert_exporter": "python",
   "pygments_lexer": "ipython3",
   "version": "3.10.5"
  }
 },
 "nbformat": 4,
 "nbformat_minor": 5
}
